{
  "nbformat": 4,
  "nbformat_minor": 0,
  "metadata": {
    "colab": {
      "name": "2-6.파이썬의 자료형:딕셔너리.ipynb",
      "provenance": [],
      "include_colab_link": true
    },
    "kernelspec": {
      "name": "python3",
      "display_name": "Python 3"
    },
    "language_info": {
      "name": "python"
    }
  },
  "cells": [
    {
      "cell_type": "markdown",
      "metadata": {
        "id": "view-in-github",
        "colab_type": "text"
      },
      "source": [
        "<a href=\"https://colab.research.google.com/github/suya1357/SkillTreePython/blob/main/2_6_%ED%8C%8C%EC%9D%B4%EC%8D%AC%EC%9D%98_%EC%9E%90%EB%A3%8C%ED%98%95_%EB%94%95%EC%85%94%EB%84%88%EB%A6%AC.ipynb\" target=\"_parent\"><img src=\"https://colab.research.google.com/assets/colab-badge.svg\" alt=\"Open In Colab\"/></a>"
      ]
    },
    {
      "cell_type": "markdown",
      "source": [
        "# 2-6.파이썬의 자료형:딕셔너리 \n",
        "---\n",
        "* 날짜: 2022-12-28\n",
        "* 이름: 김희수"
      ],
      "metadata": {
        "id": "kB5IciXEm6o4"
      }
    },
    {
      "cell_type": "markdown",
      "source": [
        "## 개념정리\n",
        "---\n",
        "\n",
        "\n",
        "딕셔너리(dictionary) 는 `key`와 `value`로 이루어져 있습니다. 마치 사전처럼 특정 `key`에 접근해서 해당 `key`에 해당하는 `value`를 확인할 수 있습니다. 따라서 딕서녀리에서의 인덱싱 방법은 리스트나 튜플과 다르다는 점을 유의해야 합니다."
      ],
      "metadata": {
        "id": "4iN8NFzHRJ2D"
      }
    },
    {
      "cell_type": "markdown",
      "source": [
        "### **(1) 생성**\n",
        "\n",
        "`{ }` 기호를 통해 딕셔너리를 생성할 수 있습니다. 집합(set) 과 달리 딕셔너리에는 `key` 와 `value`가 존재하므로 이를 적어줍니다. 학생들의 이름표가 아래 표처럼 기입되어 있다고 가정합시다.\n",
        "\n",
        "|번호|이름|\n",
        "|--|--|\n",
        "|1|김모모|\n",
        "|2|이모모|\n",
        "|3|강모모|\n",
        "\n",
        "1-김모모, 2-이모모, 3-강모모 와 같이 순서쌍으로 되어있는 데이터를 딕셔너리로 아래와 같이 표현할 수 있습니다.\n",
        "```\n",
        "students = { 1: '김모모', 2: '이모모', 3: '강모모' }\n",
        "print( students, type(students) )\n",
        "```"
      ],
      "metadata": {
        "id": "MAM8MDnfw68b"
      }
    },
    {
      "cell_type": "code",
      "source": [
        "students = { 1: '김모모', 2: '이모모', 3: '강모모' }\n",
        "print( students, type(students) )\n",
        "# a = dict()"
      ],
      "metadata": {
        "id": "Ci3MSqj8mdEo",
        "outputId": "222574b7-4f03-4fec-872b-7386d19d7685",
        "colab": {
          "base_uri": "https://localhost:8080/"
        }
      },
      "execution_count": 19,
      "outputs": [
        {
          "output_type": "stream",
          "name": "stdout",
          "text": [
            "{1: '김모모', 2: '이모모', 3: '강모모'} <class 'dict'>\n"
          ]
        }
      ]
    },
    {
      "cell_type": "markdown",
      "source": [
        "#### **key**\n",
        "\n",
        "* `a.keys()` : 딕셔너리 `a`의 `key` 값들을 반환합니다.\n",
        "\n",
        "딕셔너리 `students`의 `key` 값들을 확인해 봅시다.\n",
        "\n",
        "```\n",
        "students.keys()\n",
        "```"
      ],
      "metadata": {
        "id": "pTXhUDBdmflg"
      }
    },
    {
      "cell_type": "code",
      "source": [
        "students.keys()"
      ],
      "metadata": {
        "id": "kQgNdHn9mhBf",
        "outputId": "8323be6e-bf91-4bb2-99ab-bac0506a982f",
        "colab": {
          "base_uri": "https://localhost:8080/"
        }
      },
      "execution_count": 20,
      "outputs": [
        {
          "output_type": "execute_result",
          "data": {
            "text/plain": [
              "dict_keys([1, 2, 3])"
            ]
          },
          "metadata": {},
          "execution_count": 20
        }
      ]
    },
    {
      "cell_type": "markdown",
      "source": [
        "반환 값의 타입을 보면 `dict_keys`라는 객체를 돌려주는 것을 볼 수 있습니다. `dict_keys`는 리스트를 사용하는 것과 차이가 거의 없긴 하지만 리스트에서 사용되는 유용한 메서드 (`append`, `remove`, `sort` 등)을 사용할 수 없습니다. 따라서 `dict_keys` 객체를 리스트로 변환하려면 아래와 같이 리스트로 바인딩하고 이 `key`값들을 유용하게 사용할 수 있습니다. \n",
        "\n",
        "```\n",
        "key_list = students.keys()\n",
        "print(key_list)\n",
        "```\n"
      ],
      "metadata": {
        "id": "KkMGhau7mlt0"
      }
    },
    {
      "cell_type": "code",
      "source": [
        "key_list = students.keys()\n",
        "print(key_list)"
      ],
      "metadata": {
        "id": "UwBXWvk5mr4v",
        "outputId": "1af89c2e-6cdc-4e76-852b-5cf7371621f1",
        "colab": {
          "base_uri": "https://localhost:8080/"
        }
      },
      "execution_count": 21,
      "outputs": [
        {
          "output_type": "stream",
          "name": "stdout",
          "text": [
            "dict_keys([1, 2, 3])\n"
          ]
        }
      ]
    },
    {
      "cell_type": "markdown",
      "source": [
        "#### **value**\n",
        "\n",
        "* `a.values()` : 딕셔너리 `a`의 `vlalue` 값들을 반환합니다.\n",
        "\n",
        "딕셔너리 `students`의 `value` 값들을 확인해 봅시다.\n",
        "\n",
        "```\n",
        "students.values()\n",
        "```"
      ],
      "metadata": {
        "id": "xSWjMofZmqSd"
      }
    },
    {
      "cell_type": "code",
      "source": [
        "students.values()"
      ],
      "metadata": {
        "id": "Yiu0p9Hvmh7P",
        "outputId": "3d753b88-ef13-4e82-909b-3f4859352757",
        "colab": {
          "base_uri": "https://localhost:8080/"
        }
      },
      "execution_count": 23,
      "outputs": [
        {
          "output_type": "execute_result",
          "data": {
            "text/plain": [
              "dict_values(['김모모', '이모모', '강모모'])"
            ]
          },
          "metadata": {},
          "execution_count": 23
        }
      ]
    },
    {
      "cell_type": "markdown",
      "source": [
        "#### **딕셔너리의 요소**\n",
        "\n",
        "딕셔너리에는 `key`와 `value`로 구성되어 있습니다. `key`값과 `value`값은 문자열과 수치자료형이 모두 가능합니다.\n",
        "\n",
        "```\n",
        "students_name = { '김모모': 1, '이모모': 2, '강모모': 3}\n",
        "print(students_name)\n",
        "```"
      ],
      "metadata": {
        "id": "y4unWpUtnDRr"
      }
    },
    {
      "cell_type": "code",
      "source": [
        "students_name = { '김모모': 1, '이모모': 2, '강모모': 3}\n",
        "print(students_name)"
      ],
      "metadata": {
        "id": "N-k0xPDlnCPR",
        "outputId": "c3e717e5-523b-4a81-b756-06db83e04927",
        "colab": {
          "base_uri": "https://localhost:8080/"
        }
      },
      "execution_count": 24,
      "outputs": [
        {
          "output_type": "stream",
          "name": "stdout",
          "text": [
            "{'김모모': 1, '이모모': 2, '강모모': 3}\n"
          ]
        }
      ]
    },
    {
      "cell_type": "markdown",
      "source": [
        "* `value` 값은 리스트로 구성될 수 있습니다.\n",
        "\n",
        "```\n",
        "students_list = { 1: ['김모모', '여성'], 2: ['이모모', '여성'], 3: ['강모모', '남성'] } \n",
        "print(students_list)\n",
        "```"
      ],
      "metadata": {
        "id": "L3ivb4yznNkB"
      }
    },
    {
      "cell_type": "code",
      "source": [
        "students_list = { 1: ['김모모', '여성'], 2: ['이모모', '여성'], 3: ['강모모', '남성'] } \n",
        "print(students_list)\n"
      ],
      "metadata": {
        "id": "qq48adJTnIi4",
        "outputId": "c8d6eff5-3e8a-4ec9-c25e-2946b99218f1",
        "colab": {
          "base_uri": "https://localhost:8080/"
        }
      },
      "execution_count": 25,
      "outputs": [
        {
          "output_type": "stream",
          "name": "stdout",
          "text": [
            "{1: ['김모모', '여성'], 2: ['이모모', '여성'], 3: ['강모모', '남성']}\n"
          ]
        }
      ]
    },
    {
      "cell_type": "markdown",
      "source": [
        "* `key`값은 리스트로 구성할 수 없습니다.\n",
        "\n",
        "```\n",
        "students_list = { ['김모모', '여성']:1, ['이모모', '여성']:2, ['강모모', '남성']:3 } \n",
        "print(students_list)\n",
        "```"
      ],
      "metadata": {
        "id": "q7ai9P_OnZOX"
      }
    },
    {
      "cell_type": "code",
      "source": [
        "students_list = { ['김모모', '여성']:1, ['이모모', '여성']:2, ['강모모', '남성']:3 } \n",
        "print(students_list)"
      ],
      "metadata": {
        "id": "B5rMikMYnOrP",
        "outputId": "af5cb090-2cf9-478a-9bf6-3af6a7eec25c",
        "colab": {
          "base_uri": "https://localhost:8080/",
          "height": 209
        }
      },
      "execution_count": 26,
      "outputs": [
        {
          "output_type": "error",
          "ename": "TypeError",
          "evalue": "ignored",
          "traceback": [
            "\u001b[0;31m---------------------------------------------------------------------------\u001b[0m",
            "\u001b[0;31mTypeError\u001b[0m                                 Traceback (most recent call last)",
            "\u001b[0;32m<ipython-input-26-2758094f3dfd>\u001b[0m in \u001b[0;36m<module>\u001b[0;34m\u001b[0m\n\u001b[0;32m----> 1\u001b[0;31m \u001b[0mstudents_list\u001b[0m \u001b[0;34m=\u001b[0m \u001b[0;34m{\u001b[0m \u001b[0;34m[\u001b[0m\u001b[0;34m'김모모'\u001b[0m\u001b[0;34m,\u001b[0m \u001b[0;34m'여성'\u001b[0m\u001b[0;34m]\u001b[0m\u001b[0;34m:\u001b[0m\u001b[0;36m1\u001b[0m\u001b[0;34m,\u001b[0m \u001b[0;34m[\u001b[0m\u001b[0;34m'이모모'\u001b[0m\u001b[0;34m,\u001b[0m \u001b[0;34m'여성'\u001b[0m\u001b[0;34m]\u001b[0m\u001b[0;34m:\u001b[0m\u001b[0;36m2\u001b[0m\u001b[0;34m,\u001b[0m \u001b[0;34m[\u001b[0m\u001b[0;34m'강모모'\u001b[0m\u001b[0;34m,\u001b[0m \u001b[0;34m'남성'\u001b[0m\u001b[0;34m]\u001b[0m\u001b[0;34m:\u001b[0m\u001b[0;36m3\u001b[0m \u001b[0;34m}\u001b[0m\u001b[0;34m\u001b[0m\u001b[0;34m\u001b[0m\u001b[0m\n\u001b[0m\u001b[1;32m      2\u001b[0m \u001b[0mprint\u001b[0m\u001b[0;34m(\u001b[0m\u001b[0mstudents_list\u001b[0m\u001b[0;34m)\u001b[0m\u001b[0;34m\u001b[0m\u001b[0;34m\u001b[0m\u001b[0m\n",
            "\u001b[0;31mTypeError\u001b[0m: unhashable type: 'list'"
          ]
        }
      ]
    },
    {
      "cell_type": "markdown",
      "source": [
        "### **(2) 인덱싱과 슬라이싱**\n",
        "\n",
        "딕셔너리 자료형은 인덱싱이 가능하지만 슬라이싱은 불가능합니다.\n",
        "\n",
        "#### **인덱싱**\n",
        "\n",
        "딕셔너리 자료형에서 인덱싱을 하기 위해서는 `key`값을 이용합니다. \n",
        "\n",
        "```\n",
        "print(students)\n",
        "\n",
        "print(students[1]) \n",
        "print(students[2])\n",
        "print(students[3])\n",
        "```"
      ],
      "metadata": {
        "id": "6USCWJfinhzp"
      }
    },
    {
      "cell_type": "code",
      "source": [
        "# print(students[0]) 0번째 요소를 호출하는게 아니라, key 값인 0인 value 호출\n",
        "print(students)\n",
        "\n",
        "print(students[1]) \n",
        "print(students[2])\n",
        "print(students[3])\n",
        "print(students_name, students_name['강모모'])"
      ],
      "metadata": {
        "id": "ru9cjc8MnhVA",
        "outputId": "00921057-315e-433a-caea-785dc26b8427",
        "colab": {
          "base_uri": "https://localhost:8080/"
        }
      },
      "execution_count": 27,
      "outputs": [
        {
          "output_type": "stream",
          "name": "stdout",
          "text": [
            "{1: '김모모', 2: '이모모', 3: '강모모'}\n",
            "김모모\n",
            "이모모\n",
            "강모모\n",
            "{'김모모': 1, '이모모': 2, '강모모': 3} 3\n"
          ]
        }
      ]
    },
    {
      "cell_type": "markdown",
      "source": [
        "### **(3) 수정과 삭제**\n"
      ],
      "metadata": {
        "id": "Jt3KMf5enuzd"
      }
    },
    {
      "cell_type": "markdown",
      "source": [
        "\n",
        "#### **수정**\n",
        "\n",
        "인덱싱을 이용해 `value`값에 접근하여 값을 수정할 수 있습니다.\n",
        "\n",
        "```\n",
        "print(students)\n",
        "students[1] = \"윤모모\" # key 1 해당하는 value를 \"윤모모\"로 변경\n",
        "print(students)\n",
        "```"
      ],
      "metadata": {
        "id": "T4fcddD9n2XQ"
      }
    },
    {
      "cell_type": "code",
      "source": [
        "print(students)\n",
        "students[1] = \"윤모모\" # key 1 해당하는 value를 \"윤모모\"로 변경\n",
        "print(students)\n",
        "students[4] = '한모모'\n",
        "students[0] = '청모모'\n",
        "students[-1] = '김모모'\n",
        "print(students)"
      ],
      "metadata": {
        "id": "FqSnpoQgnf1X",
        "outputId": "987879fa-1971-487f-9039-a03ca1d83647",
        "colab": {
          "base_uri": "https://localhost:8080/"
        }
      },
      "execution_count": 28,
      "outputs": [
        {
          "output_type": "stream",
          "name": "stdout",
          "text": [
            "{1: '김모모', 2: '이모모', 3: '강모모'}\n",
            "{1: '윤모모', 2: '이모모', 3: '강모모'}\n",
            "{1: '윤모모', 2: '이모모', 3: '강모모', 4: '한모모', 0: '청모모', -1: '김모모'}\n"
          ]
        }
      ]
    },
    {
      "cell_type": "markdown",
      "source": [
        "#### **삭제**\n",
        "\n",
        "인덱싱을 에용해 `value`값에 접근하고, `del` 을이용해 값을 삭제할 수 있습니다.\n",
        "\n",
        "```\n",
        "print(students)\n",
        "del students[1] # (1-윤모모) 삭제\n",
        "print(students)\n",
        "```\n"
      ],
      "metadata": {
        "id": "8FDcTjVPn_GM"
      }
    },
    {
      "cell_type": "code",
      "source": [
        "print(students)\n",
        "del students[1] # (1-윤모모) 삭제\n",
        "print(students)"
      ],
      "metadata": {
        "id": "ssIGMsJ_n5D3",
        "colab": {
          "base_uri": "https://localhost:8080/"
        },
        "outputId": "5acc4ca1-1c4a-4ba8-b195-3d032a749684"
      },
      "execution_count": 29,
      "outputs": [
        {
          "output_type": "stream",
          "name": "stdout",
          "text": [
            "{1: '윤모모', 2: '이모모', 3: '강모모', 4: '한모모', 0: '청모모', -1: '김모모'}\n",
            "{2: '이모모', 3: '강모모', 4: '한모모', 0: '청모모', -1: '김모모'}\n"
          ]
        }
      ]
    },
    {
      "cell_type": "markdown",
      "source": [
        "\n",
        "### **(4) 관련 메서드**"
      ],
      "metadata": {
        "id": "UOJIwkinoRaF"
      }
    },
    {
      "cell_type": "markdown",
      "source": [
        "\n",
        "\n",
        "* `dict.get(k)` : 딕셔너리 `dict`의 key `k`에 해당하는 value를 반환합니다. 인덱싱과 같은 기능을 합니다. \n",
        "\n",
        "```\n",
        "print(students)\n",
        "print(students.get(2)) #  key 2에 해당하는 value 출력 (.get 이용하기)\n",
        "print(students[2]) # key 2에 해당하는 value 출력 (인덱싱 이용하기)\n",
        "```"
      ],
      "metadata": {
        "id": "P4ZTx-WLoFHQ"
      }
    },
    {
      "cell_type": "code",
      "source": [
        "print(students)\n",
        "print(students.get(3)) #  key 2에 해당하는 value 출력 (.get 이용하기)\n",
        "print(students[4]) # key 2에 해당하는 value 출력 (인덱싱 이용하기)"
      ],
      "metadata": {
        "id": "EeNW-L8AoDqR",
        "outputId": "26db9972-f50a-47ba-cfe7-d97ebac8b63c",
        "colab": {
          "base_uri": "https://localhost:8080/"
        }
      },
      "execution_count": 84,
      "outputs": [
        {
          "output_type": "stream",
          "name": "stdout",
          "text": [
            "{2: '이모모', 3: '강모모', 4: '한모모', 0: '청모모', -1: '김모모'}\n",
            "강모모\n",
            "한모모\n"
          ]
        }
      ]
    },
    {
      "cell_type": "markdown",
      "source": [
        "* `dict.items()` : 딕셔너리 `dict`의 key 와 value를 튜플 쌍으로 반환합니다.\n",
        "\n",
        "\n",
        "```\n",
        "print(students.items()) # key-value 쌍 출력\n",
        "```\n"
      ],
      "metadata": {
        "id": "IY34hs3NoQCi"
      }
    },
    {
      "cell_type": "code",
      "source": [
        "print(students.items()) # key-value 쌍 출력"
      ],
      "metadata": {
        "id": "GetiL-7-oI9O",
        "outputId": "8e4377a8-c2ac-4019-ef7c-80ca69d35247",
        "colab": {
          "base_uri": "https://localhost:8080/"
        }
      },
      "execution_count": 31,
      "outputs": [
        {
          "output_type": "stream",
          "name": "stdout",
          "text": [
            "dict_items([(2, '이모모'), (3, '강모모'), (4, '한모모'), (0, '청모모'), (-1, '김모모')])\n"
          ]
        }
      ]
    },
    {
      "cell_type": "markdown",
      "source": [
        "유용하게 사용하기 위해서는 리스트로 바꿔줍니다.\n",
        "\n",
        "```\n",
        "item_list = list(students.items())\n",
        "print(item_list)\n",
        "```"
      ],
      "metadata": {
        "id": "7CJzSn8boYPY"
      }
    },
    {
      "cell_type": "code",
      "source": [
        "item_list = list(students.items())\n",
        "print(item_list)"
      ],
      "metadata": {
        "id": "ndAt_6B_ohRM",
        "colab": {
          "base_uri": "https://localhost:8080/"
        },
        "outputId": "8acfb531-6353-4726-9429-fb37942a7656"
      },
      "execution_count": 32,
      "outputs": [
        {
          "output_type": "stream",
          "name": "stdout",
          "text": [
            "[(2, '이모모'), (3, '강모모'), (4, '한모모'), (0, '청모모'), (-1, '김모모')]\n"
          ]
        }
      ]
    },
    {
      "cell_type": "markdown",
      "source": [
        "리스트 형식으로 `key`와 `value`값에 적절히 접근할 수 있습니다.\n",
        "\n",
        "```\n",
        "print(item_list[0][0]) # 0번째 key\n",
        "print(item_list[0][1]) # 0번째 value\n",
        "print(item_list[1][0]) # 1번째 key\n",
        "print(item_list[1][1]) # 1번째 value\n",
        "```"
      ],
      "metadata": {
        "id": "3Mz2hNPvoiYX"
      }
    },
    {
      "cell_type": "code",
      "source": [
        "print(item_list[1][1])\n",
        "print(item_list[-1][0])\n"
      ],
      "metadata": {
        "id": "l1ggc4rqo5Kg",
        "outputId": "e081b98c-75ad-47f9-c0ef-a0bd35372c89",
        "colab": {
          "base_uri": "https://localhost:8080/"
        }
      },
      "execution_count": 36,
      "outputs": [
        {
          "output_type": "stream",
          "name": "stdout",
          "text": [
            "강모모\n",
            "-1\n"
          ]
        }
      ]
    },
    {
      "cell_type": "markdown",
      "source": [
        "* `dict.clear()` : 딕셔너리 `dict`의 구성요소를 초기화(제거) 합니다.\n",
        "\n",
        "```\n",
        "print(students) # students  출력\n",
        "students.clear() # students 초기화\n",
        "print(students) # students  출력\n",
        "```"
      ],
      "metadata": {
        "id": "NPopL6l8oTw1"
      }
    },
    {
      "cell_type": "code",
      "source": [],
      "metadata": {
        "id": "OufFGiD8oUEJ"
      },
      "execution_count": null,
      "outputs": []
    },
    {
      "cell_type": "markdown",
      "source": [
        "## 문제풀이\n",
        "---\n",
        "\n"
      ],
      "metadata": {
        "id": "E2hw7Lu5o-fs"
      }
    },
    {
      "cell_type": "markdown",
      "source": [
        "**예제 01**\n",
        "\n",
        "과일메뉴와 가격이 다음과 같습니다. 이를 딕셔너리로 저장하세요\n",
        "\n",
        "|과일|가격|\n",
        "--|--\n",
        "사과|1000\n",
        "바나나|2400\n",
        "감자|400|\n",
        "메론|8000\n",
        "복숭아|4000\n",
        "딸기|9000\n"
      ],
      "metadata": {
        "id": "vBBYosZJpASW"
      }
    },
    {
      "cell_type": "code",
      "source": [
        "f = {'사과':1000, '바나나':2400, '감자':400, '메론':8000, '복숭아':4000, '딸기':9000}"
      ],
      "metadata": {
        "id": "NjNzHNhHo8Pm"
      },
      "execution_count": 59,
      "outputs": []
    },
    {
      "cell_type": "markdown",
      "source": [
        "**예제 02**\n",
        "\n",
        "위에서 만든 딕셔너리에 \"포도\"를 추가하세요 가격은 6500원입니다."
      ],
      "metadata": {
        "id": "EHflY9g-pBpS"
      }
    },
    {
      "cell_type": "code",
      "source": [
        "f['포도'] = 6500\n",
        "print(f)"
      ],
      "metadata": {
        "id": "AvZFSHdLpCv4",
        "outputId": "25302d60-4e14-4f2c-948d-12c2d74acd6f",
        "colab": {
          "base_uri": "https://localhost:8080/"
        }
      },
      "execution_count": 60,
      "outputs": [
        {
          "output_type": "stream",
          "name": "stdout",
          "text": [
            "{'사과': 1000, '바나나': 2400, '감자': 400, '메론': 8000, '복숭아': 4000, '딸기': 9000, '포도': 6500}\n"
          ]
        }
      ]
    },
    {
      "cell_type": "markdown",
      "source": [
        "**예제 03**\n",
        "\n",
        "위에서 만든 딕셔너리에 \"감자\"를 삭제하세요\n"
      ],
      "metadata": {
        "id": "RqOkRDTspC5V"
      }
    },
    {
      "cell_type": "code",
      "source": [
        "del f['감자']\n",
        "print(f)"
      ],
      "metadata": {
        "id": "Z46WP9k2pDYQ",
        "outputId": "34e37b34-70e2-4e86-b2d3-3f983e1f1efc",
        "colab": {
          "base_uri": "https://localhost:8080/"
        }
      },
      "execution_count": 61,
      "outputs": [
        {
          "output_type": "stream",
          "name": "stdout",
          "text": [
            "{'사과': 1000, '바나나': 2400, '메론': 8000, '복숭아': 4000, '딸기': 9000, '포도': 6500}\n"
          ]
        }
      ]
    },
    {
      "cell_type": "markdown",
      "source": [
        "**예제 04**\n",
        "\n",
        "복숭아 가격이 올라 4500원이 되었습니다. 가격을 조정하세요"
      ],
      "metadata": {
        "id": "o6HRTQy3pDeI"
      }
    },
    {
      "cell_type": "code",
      "source": [
        "f['복숭아'] = 4500\n",
        "print(f)"
      ],
      "metadata": {
        "id": "w7MSSt_ypEJ0",
        "outputId": "261a2ef4-e6db-4324-d0fe-74fa85216486",
        "colab": {
          "base_uri": "https://localhost:8080/"
        }
      },
      "execution_count": 62,
      "outputs": [
        {
          "output_type": "stream",
          "name": "stdout",
          "text": [
            "{'사과': 1000, '바나나': 2400, '메론': 8000, '복숭아': 4500, '딸기': 9000, '포도': 6500}\n"
          ]
        }
      ]
    },
    {
      "cell_type": "markdown",
      "source": [
        "**예제 05**\n",
        "\n",
        "위에서 정의한 딕셔너리의 key 값들만 이용해서 아래와 같이 출력되도록 세줄의 코드를 작성하세요\n",
        "\n",
        "* 코드\n",
        "```\n",
        "# key값을 리스트로 변환합니다.\n",
        "# 리스트를 문자열로 변환합니다.\n",
        "# 문자열을 출력합니다.\n",
        "```\n",
        "\n",
        "* 실행 결과\n",
        "```\n",
        "가게 과일 종류는 사과, 바나나, 메론, 봉숭아, 딸기, 포도 입니다!\n",
        "```"
      ],
      "metadata": {
        "id": "W4tcYa3MpEOc"
      }
    },
    {
      "cell_type": "code",
      "source": [
        "f = list(f)\n",
        "','.join(f)\n",
        "print(f'가게 과일 종류는 {f} 입니다!')"
      ],
      "metadata": {
        "id": "opdEEVMHpFQx",
        "outputId": "226fcee9-8508-467e-dbd8-7b30d5b476bb",
        "colab": {
          "base_uri": "https://localhost:8080/"
        }
      },
      "execution_count": 66,
      "outputs": [
        {
          "output_type": "stream",
          "name": "stdout",
          "text": [
            "가게 과일 종류는 ['사과', '바나나', '메론', '복숭아', '딸기', '포도'] 입니다!\n"
          ]
        }
      ]
    },
    {
      "cell_type": "markdown",
      "source": [
        "**예제 06**\n",
        "\n",
        "위에서 정의한 딕셔너리를 이용해서 사용자가 과일 종류 한가지를 입력하면 해당 과일의 가격을 출력하는 코드를 작성하세요\n",
        "\n",
        "* 실행 결과\n",
        "```\n",
        ">> 어떤 과일을 찾으시나요?: 사과\n",
        "사과의 가격은 1000원 입니다.\n",
        "```"
      ],
      "metadata": {
        "id": "x2E746EdpFWN"
      }
    },
    {
      "cell_type": "code",
      "source": [
        "a = input('어떤 과일을 찾으시나요?: ')\n",
        "c = f.get(a)\n",
        "print(f'사과의 가격은 {c}원 입니다.')"
      ],
      "metadata": {
        "id": "A4_O8rJepQtv",
        "outputId": "4b75e3ff-dcba-4793-d341-3f6d0970e1fd",
        "colab": {
          "base_uri": "https://localhost:8080/",
          "height": 227
        }
      },
      "execution_count": 69,
      "outputs": [
        {
          "name": "stdout",
          "output_type": "stream",
          "text": [
            "어떤 과일을 찾으시나요?: 사과\n"
          ]
        },
        {
          "output_type": "error",
          "ename": "AttributeError",
          "evalue": "ignored",
          "traceback": [
            "\u001b[0;31m---------------------------------------------------------------------------\u001b[0m",
            "\u001b[0;31mAttributeError\u001b[0m                            Traceback (most recent call last)",
            "\u001b[0;32m<ipython-input-69-8975a281f374>\u001b[0m in \u001b[0;36m<module>\u001b[0;34m\u001b[0m\n\u001b[1;32m      1\u001b[0m \u001b[0ma\u001b[0m \u001b[0;34m=\u001b[0m \u001b[0minput\u001b[0m\u001b[0;34m(\u001b[0m\u001b[0;34m'어떤 과일을 찾으시나요?: '\u001b[0m\u001b[0;34m)\u001b[0m\u001b[0;34m\u001b[0m\u001b[0;34m\u001b[0m\u001b[0m\n\u001b[0;32m----> 2\u001b[0;31m \u001b[0mc\u001b[0m \u001b[0;34m=\u001b[0m \u001b[0mf\u001b[0m\u001b[0;34m.\u001b[0m\u001b[0mget\u001b[0m\u001b[0;34m(\u001b[0m\u001b[0ma\u001b[0m\u001b[0;34m)\u001b[0m\u001b[0;34m\u001b[0m\u001b[0;34m\u001b[0m\u001b[0m\n\u001b[0m\u001b[1;32m      3\u001b[0m \u001b[0mprint\u001b[0m\u001b[0;34m(\u001b[0m\u001b[0;34mf'사과의 가격은 {c}원 입니다.'\u001b[0m\u001b[0;34m)\u001b[0m\u001b[0;34m\u001b[0m\u001b[0;34m\u001b[0m\u001b[0m\n",
            "\u001b[0;31mAttributeError\u001b[0m: 'list' object has no attribute 'get'"
          ]
        }
      ]
    },
    {
      "cell_type": "markdown",
      "source": [
        "**예제 07**\n",
        "\n",
        "커피를 `key`로, 가격과 재고가 들어있는 리스트를 `value` 로 하는 딕셔너리를 구성하여 `caffe_menu`로 바인딩하세요.\n",
        "\n",
        "|이름| 가격 | 재고 |\n",
        "|------| -----|----|\n",
        "|americano|1000|8\n",
        "|latte|1200|5\n",
        "|milk tea|1800|4\n"
      ],
      "metadata": {
        "id": "Jn6EOaYdpmJi"
      }
    },
    {
      "cell_type": "code",
      "source": [
        "caffe_menu = {'americano':1000, 'latte':1200, 'milk tea':1800}\n",
        "caffe_menu2 = {'americano':8, 'latte':5, 'milk tea':4}"
      ],
      "metadata": {
        "id": "4mBLSS4TpnfO"
      },
      "execution_count": 77,
      "outputs": []
    },
    {
      "cell_type": "markdown",
      "source": [
        "**예제 08**\n",
        "\n",
        "americano의 재고를 출력하세요\n"
      ],
      "metadata": {
        "id": "wnkXcxJNpsQd"
      }
    },
    {
      "cell_type": "code",
      "source": [
        "print(caffe_menu2['americano'])"
      ],
      "metadata": {
        "id": "tnwv8DN9ptEt",
        "outputId": "768841ca-a1f8-41d3-ef1c-2d7df9bcd1d4",
        "colab": {
          "base_uri": "https://localhost:8080/"
        }
      },
      "execution_count": 78,
      "outputs": [
        {
          "output_type": "stream",
          "name": "stdout",
          "text": [
            "8\n"
          ]
        }
      ]
    },
    {
      "cell_type": "markdown",
      "source": [
        "\n",
        "**예제 09**\n",
        "\n",
        "latte의 가격을 출력하세요"
      ],
      "metadata": {
        "id": "wRw90-mHptKS"
      }
    },
    {
      "cell_type": "code",
      "source": [
        "print(caffe_menu['latte'])"
      ],
      "metadata": {
        "id": "wX5wz3bqpt7R",
        "outputId": "5954a6fe-7dcb-4eb2-af72-99ef75525995",
        "colab": {
          "base_uri": "https://localhost:8080/"
        }
      },
      "execution_count": 76,
      "outputs": [
        {
          "output_type": "stream",
          "name": "stdout",
          "text": [
            "1200\n"
          ]
        }
      ]
    },
    {
      "cell_type": "markdown",
      "source": [
        "**예제 10**\n",
        "\n",
        "모든 가격의 평균을 출력하는 코드를 한줄로 작성하세요"
      ],
      "metadata": {
        "id": "bHKHg1UJpuA4"
      }
    },
    {
      "cell_type": "code",
      "source": [
        "print"
      ],
      "metadata": {
        "id": "W_V1N7SDpvBh"
      },
      "execution_count": null,
      "outputs": []
    },
    {
      "cell_type": "markdown",
      "source": [
        "**예제 11**\n",
        "\n",
        "모든 가장 비싼 음료를 출력하는 코드를 한줄로 작성하세요"
      ],
      "metadata": {
        "id": "UGj-HLxApvKn"
      }
    },
    {
      "cell_type": "code",
      "source": [],
      "metadata": {
        "id": "rSCh6S4opwEC"
      },
      "execution_count": null,
      "outputs": []
    },
    {
      "cell_type": "markdown",
      "source": [
        "**예제 12**\n",
        "\n",
        "우유값의 인상으로 latte와 milk tea의 가격이 300원씩 올랐습니다. `caffe_menu`에 반영하세요. (딕셔너리 자체를 재바인딩 하지 않도록 코드를 작성하세요.)"
      ],
      "metadata": {
        "id": "Ll9-2W1ZqVPP"
      }
    },
    {
      "cell_type": "code",
      "source": [],
      "metadata": {
        "id": "VnpW2XlJqVay"
      },
      "execution_count": null,
      "outputs": []
    },
    {
      "cell_type": "markdown",
      "source": [
        "**예제 13**\n",
        "\n",
        "가격, 재고 외에 판매수 라는 정보를 더 추가하려 합니다. 판매수는 americano 15개, latte 8개, milk tea 5개 입니다. `caffe_menu`의 `value`에 판매수를 추가하세요.  (딕셔너리 자체를 재바인딩 하지 않도록 코드를 작성하세요.)\n"
      ],
      "metadata": {
        "id": "ffpR-aIzpwQn"
      }
    },
    {
      "cell_type": "code",
      "source": [],
      "metadata": {
        "id": "ZhtuPrubpxhN"
      },
      "execution_count": null,
      "outputs": []
    },
    {
      "cell_type": "markdown",
      "source": [
        "**예제 14**\n",
        "\n",
        "재고 자동화로 더이상 재고 데이터가 필요없게 되었습니다. `caffe_menu`에서  재고에 관한 값을 제거하세요. (딕셔너리 자체를 재바인딩 하지 않도록 코드를 작성하세요.)"
      ],
      "metadata": {
        "id": "hH-ILO6gqlxi"
      }
    },
    {
      "cell_type": "code",
      "source": [],
      "metadata": {
        "id": "MGHM3OKIqlxj"
      },
      "execution_count": null,
      "outputs": []
    },
    {
      "cell_type": "markdown",
      "source": [
        "**예제 15**\n",
        "\n",
        "새로운 메뉴 `vanilla latte`가 추가되었습니다. 가격은 2000원이고 판매수는 0입니다. `caffe_menu`에 추가하세요."
      ],
      "metadata": {
        "id": "ayPk9FlFq3tf"
      }
    },
    {
      "cell_type": "code",
      "source": [],
      "metadata": {
        "id": "9MXlfxTLq3tl"
      },
      "execution_count": null,
      "outputs": []
    },
    {
      "cell_type": "markdown",
      "source": [
        "**예제 16**\n",
        "\n",
        "아래와 같이 코드를 실행하면 메뉴를 띄우고, 사용자가 메뉴를 입력하면 메뉴에 대한 정보를 출력하는 코드를 작성하세요.\n",
        "\n",
        "* 실행 결과\n",
        "```\n",
        ">> 메뉴: americano * latte * milk tea * vanilla latte\n",
        ">> 메뉴를 선택하세요: milk tea\n",
        "milk tea 의 가격은 2100원이고 오늘 5개 팔렸습니다.\n",
        "```\n"
      ],
      "metadata": {
        "id": "12io9CvxpSeZ"
      }
    },
    {
      "cell_type": "code",
      "source": [],
      "metadata": {
        "id": "rBVfpGbppTqv"
      },
      "execution_count": null,
      "outputs": []
    },
    {
      "cell_type": "markdown",
      "source": [
        "**예제 17**\n",
        "\n",
        "아래와 같이 사용자가 0부터 9까지 숫자를 입력하면 한국어로 변환하는 코드를 작성하세요. \n",
        "\n",
        "* 실행 결과\n",
        "```\n",
        ">> 0부터 9까지 숫자를 입력하세요: 7\n",
        "7은 한국어로 \"칠\" 이라고 읽습니다.\n",
        "```\n"
      ],
      "metadata": {
        "id": "uS21dCdOrsr_"
      }
    },
    {
      "cell_type": "code",
      "source": [],
      "metadata": {
        "id": "bPbTUijmrsr_"
      },
      "execution_count": null,
      "outputs": []
    },
    {
      "cell_type": "markdown",
      "source": [
        "**예제 18**\n",
        "\n",
        "아래와 같이 딕셔너리가 정의되어 있습니다. 알파벳을 입력하면 아래와 같은 실행 결과를 내는 코드를 작성하세요.\n",
        "\n",
        "```\n",
        "abc_dict = {'a': ['apple', 'air'], 'b': ['banana', 'book'] , 'c' : ['cherry', 'car']}\n",
        "```\n",
        "\n",
        "* 실행 결과\n",
        "```\n",
        ">> alphabet : a\n",
        "a is apple, a is air\n",
        "```\n",
        "\n",
        "* 실행 결과\n",
        "```\n",
        ">> alphabet : b\n",
        "b is banana, b is book\n",
        "```\n"
      ],
      "metadata": {
        "id": "ll-l2MJUrtCn"
      }
    },
    {
      "cell_type": "code",
      "source": [],
      "metadata": {
        "id": "_LNc0bKKrtCn"
      },
      "execution_count": null,
      "outputs": []
    },
    {
      "cell_type": "markdown",
      "source": [
        "**예제 19**\n",
        "\n",
        "아래와 같이 딕셔너리가 정의되어 있습니다. 알파벳을 입력하면 아래와 같은 실행 결과를 내는 코드를 작성하세요.\n",
        "\n",
        "```\n",
        "abc_dict = {'a': ['apple', 'air'], 'b': ['banana', 'book'] , 'c' : ['cherry', 'car']}\n",
        "```\n",
        "\n",
        "* 실행 결과\n",
        "```\n",
        ">> alphabet : a\n",
        "a is Apple, a is Air\n",
        "```\n",
        "\n",
        "* 실행 결과\n",
        "```\n",
        ">> alphabet : b\n",
        "b is Banana, b is Book\n",
        "```\n"
      ],
      "metadata": {
        "id": "AUslSi-ct6w2"
      }
    },
    {
      "cell_type": "code",
      "source": [],
      "metadata": {
        "id": "ZM8oRmBPt6w8"
      },
      "execution_count": null,
      "outputs": []
    },
    {
      "cell_type": "markdown",
      "source": [
        "**예제 20**\n",
        "\n",
        "아래와 같이 딕셔너리가 정의되어 있습니다. 알파벳을 입력하면 아래와 같은 실행 결과를 내는 코드를 작성하세요.\n",
        "\n",
        "```\n",
        "abc_dict = {'a': ['apple', 'air'], 'b': ['banana', 'book'] , 'c' : ['cherry', 'car']}\n",
        "```\n",
        "\n",
        "* 실행 결과\n",
        "```\n",
        ">> alphabet : a\n",
        ">> num : 0\n",
        "a is Apple\n",
        "```\n",
        "\n",
        "* 실행 결과\n",
        "```\n",
        ">> alphabet : b\n",
        ">> num : 1\n",
        "b is Book\n",
        "```\n"
      ],
      "metadata": {
        "id": "xTC4HPlzuF-i"
      }
    },
    {
      "cell_type": "code",
      "source": [
        "abc_dict = {'a': ['apple', 'air'], 'b': ['banana', 'book'] , 'c' : ['cherry', 'car']}\n",
        "print(abc_dict)\n"
      ],
      "metadata": {
        "id": "TMyWR9-buF-p",
        "outputId": "e4eb83ce-aa6b-4df6-f346-3ebac0ebdfeb",
        "colab": {
          "base_uri": "https://localhost:8080/"
        }
      },
      "execution_count": 88,
      "outputs": [
        {
          "output_type": "stream",
          "name": "stdout",
          "text": [
            "{'a': ['apple', 'air'], 'b': ['banana', 'book'], 'c': ['cherry', 'car']}\n"
          ]
        }
      ]
    }
  ]
}