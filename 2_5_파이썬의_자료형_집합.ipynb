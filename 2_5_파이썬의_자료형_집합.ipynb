{
  "nbformat": 4,
  "nbformat_minor": 0,
  "metadata": {
    "colab": {
      "name": "2-5.파이썬의 자료형:집합.ipynb",
      "provenance": [],
      "include_colab_link": true
    },
    "kernelspec": {
      "name": "python3",
      "display_name": "Python 3"
    },
    "language_info": {
      "name": "python"
    }
  },
  "cells": [
    {
      "cell_type": "markdown",
      "metadata": {
        "id": "view-in-github",
        "colab_type": "text"
      },
      "source": [
        "<a href=\"https://colab.research.google.com/github/suya1357/SkillTreePython/blob/main/2_5_%ED%8C%8C%EC%9D%B4%EC%8D%AC%EC%9D%98_%EC%9E%90%EB%A3%8C%ED%98%95_%EC%A7%91%ED%95%A9.ipynb\" target=\"_parent\"><img src=\"https://colab.research.google.com/assets/colab-badge.svg\" alt=\"Open In Colab\"/></a>"
      ]
    },
    {
      "cell_type": "markdown",
      "source": [
        "# 2-5.파이썬의 자료형:집합 \n",
        "---\n",
        "* 날짜: 2022-12-28\n",
        "* 이름: 김희수"
      ],
      "metadata": {
        "id": "kB5IciXEm6o4"
      }
    },
    {
      "cell_type": "markdown",
      "source": [
        "## 개념정리\n",
        "---\n",
        "\n",
        "\n",
        "수학에서 쓰이는 집합의 개념과 비슷하게 파이썬에서도 집합 (set) 을 사용할 수 있습니다. \n",
        "다른 군집 자료형과 달리 집합은 다음과 같은 특징을 가지고 있습니다. \n",
        "\n",
        "1. 중복 불허용\n",
        "2. 순서 없음\n",
        "\n",
        "이 특징들에 대해 개념을 공부하며 자세히 알아보도록 합니다. "
      ],
      "metadata": {
        "id": "4iN8NFzHRJ2D"
      }
    },
    {
      "cell_type": "markdown",
      "source": [
        "### **(1) 생성**\n",
        "\n",
        "괄호 `{ }` 를 통해서 집합을 생성 할 수 있습니다. \n",
        "\n",
        "```\n",
        "a = {1,2,3}\n",
        "type(a)\n",
        "```"
      ],
      "metadata": {
        "id": "MAM8MDnfw68b"
      }
    },
    {
      "cell_type": "code",
      "source": [
        "# []리스트, ()튜플, {}집합합\n",
        "a = {1,2,3} #a = set()\n",
        "type(a)"
      ],
      "metadata": {
        "id": "GcyrxnDviDbz",
        "outputId": "200d07c3-3ddc-4ebb-f020-643a93e68343",
        "colab": {
          "base_uri": "https://localhost:8080/",
          "height": 227
        }
      },
      "execution_count": 5,
      "outputs": [
        {
          "output_type": "error",
          "ename": "TypeError",
          "evalue": "ignored",
          "traceback": [
            "\u001b[0;31m---------------------------------------------------------------------------\u001b[0m",
            "\u001b[0;31mTypeError\u001b[0m                                 Traceback (most recent call last)",
            "\u001b[0;32m<ipython-input-5-b4724a27f1d7>\u001b[0m in \u001b[0;36m<module>\u001b[0;34m\u001b[0m\n\u001b[1;32m      1\u001b[0m \u001b[0;31m# []리스트, ()튜플, {}집합합\u001b[0m\u001b[0;34m\u001b[0m\u001b[0;34m\u001b[0m\u001b[0;34m\u001b[0m\u001b[0m\n\u001b[1;32m      2\u001b[0m \u001b[0ma\u001b[0m \u001b[0;34m=\u001b[0m \u001b[0;34m{\u001b[0m\u001b[0;36m1\u001b[0m\u001b[0;34m,\u001b[0m\u001b[0;36m2\u001b[0m\u001b[0;34m,\u001b[0m\u001b[0;36m3\u001b[0m\u001b[0;34m}\u001b[0m \u001b[0;31m#a = set()\u001b[0m\u001b[0;34m\u001b[0m\u001b[0;34m\u001b[0m\u001b[0m\n\u001b[0;32m----> 3\u001b[0;31m \u001b[0mb\u001b[0m \u001b[0;34m=\u001b[0m \u001b[0mset\u001b[0m\u001b[0;34m(\u001b[0m\u001b[0;36m1\u001b[0m\u001b[0;34m,\u001b[0m\u001b[0;36m2\u001b[0m\u001b[0;34m,\u001b[0m\u001b[0;36m3\u001b[0m\u001b[0;34m)\u001b[0m\u001b[0;34m\u001b[0m\u001b[0;34m\u001b[0m\u001b[0m\n\u001b[0m\u001b[1;32m      4\u001b[0m \u001b[0mtype\u001b[0m\u001b[0;34m(\u001b[0m\u001b[0ma\u001b[0m\u001b[0;34m)\u001b[0m\u001b[0;34m\u001b[0m\u001b[0;34m\u001b[0m\u001b[0m\n",
            "\u001b[0;31mTypeError\u001b[0m: set expected at most 1 argument, got 3"
          ]
        }
      ]
    },
    {
      "cell_type": "markdown",
      "source": [
        "#### **집합의 요소**\n",
        "\n",
        "집합의 요소로는 문자열, 수치자료형, 튜플이 가능합니다. \n",
        "\n",
        "```\n",
        "a = {'a', 1, 0.5, (2,3)}\n",
        "print(a)\n",
        "```"
      ],
      "metadata": {
        "id": "U6_8nueJiDlL"
      }
    },
    {
      "cell_type": "code",
      "source": [
        "a = {'a', 1, 0.5, (2,3)}\n",
        "print(a)"
      ],
      "metadata": {
        "id": "RU88pe1yiGVH",
        "outputId": "0a327f5a-dda0-4674-8a33-68bdca55acda",
        "colab": {
          "base_uri": "https://localhost:8080/"
        }
      },
      "execution_count": 2,
      "outputs": [
        {
          "output_type": "stream",
          "name": "stdout",
          "text": [
            "{0.5, 1, 'a', (2, 3)}\n"
          ]
        }
      ]
    },
    {
      "cell_type": "markdown",
      "source": [
        "다른 군집 자료형 (리스트, 딕셔너리, 집합) 등은 에러 메시지가 뜹니다. \n",
        " \n",
        "```\n",
        "a = {'a', 1, 0.5, [1,2]}\n",
        "print(a)\n",
        "```"
      ],
      "metadata": {
        "id": "don0VECoiNyT"
      }
    },
    {
      "cell_type": "code",
      "source": [
        "a = {'a', 1, 0.5, [1,2]}\n",
        "print(a)"
      ],
      "metadata": {
        "id": "zOi241MJiMPv",
        "outputId": "d34f11b3-0933-4052-d62d-c1fa9b8be518",
        "colab": {
          "base_uri": "https://localhost:8080/",
          "height": 190
        }
      },
      "execution_count": 3,
      "outputs": [
        {
          "output_type": "error",
          "ename": "TypeError",
          "evalue": "ignored",
          "traceback": [
            "\u001b[0;31m---------------------------------------------------------------------------\u001b[0m",
            "\u001b[0;31mTypeError\u001b[0m                                 Traceback (most recent call last)",
            "\u001b[0;32m<ipython-input-3-c0c5f92d4b31>\u001b[0m in \u001b[0;36m<module>\u001b[0;34m\u001b[0m\n\u001b[0;32m----> 1\u001b[0;31m \u001b[0ma\u001b[0m \u001b[0;34m=\u001b[0m \u001b[0;34m{\u001b[0m\u001b[0;34m'a'\u001b[0m\u001b[0;34m,\u001b[0m \u001b[0;36m1\u001b[0m\u001b[0;34m,\u001b[0m \u001b[0;36m0.5\u001b[0m\u001b[0;34m,\u001b[0m \u001b[0;34m[\u001b[0m\u001b[0;36m1\u001b[0m\u001b[0;34m,\u001b[0m\u001b[0;36m2\u001b[0m\u001b[0;34m]\u001b[0m\u001b[0;34m}\u001b[0m\u001b[0;34m\u001b[0m\u001b[0;34m\u001b[0m\u001b[0m\n\u001b[0m\u001b[1;32m      2\u001b[0m \u001b[0mprint\u001b[0m\u001b[0;34m(\u001b[0m\u001b[0ma\u001b[0m\u001b[0;34m)\u001b[0m\u001b[0;34m\u001b[0m\u001b[0;34m\u001b[0m\u001b[0m\n",
            "\u001b[0;31mTypeError\u001b[0m: unhashable type: 'list'"
          ]
        }
      ]
    },
    {
      "cell_type": "markdown",
      "source": [
        "### **(2) 집합의 특징**\n",
        "\n",
        "다른 군집자료형(문자열, 리스트, 튜플, 딕셔너리)과 다른 집합만의 특징은 두가지가 있습니다.\n",
        "\n",
        "* 중복을 불허용\n",
        "* 순서가 없음"
      ],
      "metadata": {
        "id": "CjyNzVr4jG2e"
      }
    },
    {
      "cell_type": "markdown",
      "source": [
        "#### **중복불허용**\n",
        "\n",
        "집합에는 중복되는 값이 존재 하지 않습니다. 따라서 아래와 같이 초기값으로 중복된 요소를 넣더라도 중복값은 자동적으로 제거됩니다. \n",
        "\n",
        "```\n",
        "a = {1,2,2,2,3}\n",
        "print(a)\n",
        "```"
      ],
      "metadata": {
        "id": "pljO0lepjKDT"
      }
    },
    {
      "cell_type": "code",
      "source": [
        "a = {1,2,2,2,3}\n",
        "print(a)"
      ],
      "metadata": {
        "id": "HKTb0NaAiPwH",
        "outputId": "b0ff73f0-c320-4c99-b235-8f33d519cf05",
        "colab": {
          "base_uri": "https://localhost:8080/"
        }
      },
      "execution_count": 6,
      "outputs": [
        {
          "output_type": "stream",
          "name": "stdout",
          "text": [
            "{1, 2, 3}\n"
          ]
        }
      ]
    },
    {
      "cell_type": "markdown",
      "source": [
        "이러한 특징을 가지고 있기 때문에 다른 군집 자료형에 대해 중복을 제거하기 위해 집합으로 바꾸기도 합니다. \n",
        "\n",
        "```\n",
        "a_list = [1,2,3,2]\n",
        "a = set(a_list)\n",
        "a_list = list(a)\n",
        "print(a_list)\n",
        "```"
      ],
      "metadata": {
        "id": "lx7A3mBmjN_U"
      }
    },
    {
      "cell_type": "code",
      "source": [
        "a_list = [1,2,3,2]\n",
        "print(a_list)\n",
        "a = set(a_list) # 집합으로 바꾼 순간 중복은 삭제제\n",
        "a_list = list(a) # 다시 리스트로 변환환\n",
        "print(a_list)"
      ],
      "metadata": {
        "id": "eRDREQWHjMYY",
        "outputId": "c1267197-bfb2-449c-c2c6-69fa061f38f0",
        "colab": {
          "base_uri": "https://localhost:8080/"
        }
      },
      "execution_count": 9,
      "outputs": [
        {
          "output_type": "stream",
          "name": "stdout",
          "text": [
            "[1, 2, 3, 2]\n",
            "[1, 2, 3]\n"
          ]
        }
      ]
    },
    {
      "cell_type": "markdown",
      "source": [
        "#### **순서없음**\n",
        "\n",
        "집합에는 순서 개념이 없습니다. 따라서 군집 자료형을 집합으로 만드는 순간 자동으로 정렬됩니다.\n",
        "\n",
        "```\n",
        "a = {3,2,1}\n",
        "print(a)\n",
        "```"
      ],
      "metadata": {
        "id": "MXueNG18jQt5"
      }
    },
    {
      "cell_type": "code",
      "source": [
        "a = {3,2,1}\n",
        "print(a)  # 정렬기능이 아니라 보여주기식이기때문에 정렬이 필요하면 솔티드기능 사용할것."
      ],
      "metadata": {
        "id": "ezV3TvM9jPJW",
        "outputId": "8f132892-1e63-45d9-db7a-931a8aa4fe70",
        "colab": {
          "base_uri": "https://localhost:8080/"
        }
      },
      "execution_count": 10,
      "outputs": [
        {
          "output_type": "stream",
          "name": "stdout",
          "text": [
            "{1, 2, 3}\n"
          ]
        }
      ]
    },
    {
      "cell_type": "markdown",
      "source": [
        "집합 자료형에는 순서가 없기 때문에 인덱싱과 슬라이싱을 사용 할 수 없습니다. \n",
        "\n",
        "\n",
        "```\n",
        "a = {1,2,3,4}\n",
        "a[0]\n",
        "```"
      ],
      "metadata": {
        "id": "iUERHQD4jUPy"
      }
    },
    {
      "cell_type": "code",
      "source": [
        "a = {1,2,3,4}\n",
        "a[0]"
      ],
      "metadata": {
        "id": "6TBShyXDjS3m",
        "outputId": "8a1e5b9a-2040-48fd-8dce-2c4d0be07c80",
        "colab": {
          "base_uri": "https://localhost:8080/",
          "height": 190
        }
      },
      "execution_count": 11,
      "outputs": [
        {
          "output_type": "error",
          "ename": "TypeError",
          "evalue": "ignored",
          "traceback": [
            "\u001b[0;31m---------------------------------------------------------------------------\u001b[0m",
            "\u001b[0;31mTypeError\u001b[0m                                 Traceback (most recent call last)",
            "\u001b[0;32m<ipython-input-11-c3b52472fc16>\u001b[0m in \u001b[0;36m<module>\u001b[0;34m\u001b[0m\n\u001b[1;32m      1\u001b[0m \u001b[0ma\u001b[0m \u001b[0;34m=\u001b[0m \u001b[0;34m{\u001b[0m\u001b[0;36m1\u001b[0m\u001b[0;34m,\u001b[0m\u001b[0;36m2\u001b[0m\u001b[0;34m,\u001b[0m\u001b[0;36m3\u001b[0m\u001b[0;34m,\u001b[0m\u001b[0;36m4\u001b[0m\u001b[0;34m}\u001b[0m\u001b[0;34m\u001b[0m\u001b[0;34m\u001b[0m\u001b[0m\n\u001b[0;32m----> 2\u001b[0;31m \u001b[0ma\u001b[0m\u001b[0;34m[\u001b[0m\u001b[0;36m0\u001b[0m\u001b[0;34m]\u001b[0m\u001b[0;34m\u001b[0m\u001b[0;34m\u001b[0m\u001b[0m\n\u001b[0m",
            "\u001b[0;31mTypeError\u001b[0m: 'set' object is not subscriptable"
          ]
        }
      ]
    },
    {
      "cell_type": "markdown",
      "source": [
        "눈치채내 분들 있을지 모르겠지만 집합으로 정의하면 요소들이 자동적으로 정렬되는 것을 볼 수 있습니다.\n",
        "\n",
        "```\n",
        "a = {2,3,1,2,6}\n",
        "print(a)\n",
        "```"
      ],
      "metadata": {
        "id": "m4YZ3HUOkqtt"
      }
    },
    {
      "cell_type": "code",
      "source": [
        "a = {2,3,1,2,6}\n",
        "print(a)"
      ],
      "metadata": {
        "id": "FtjMzdBllCdO",
        "outputId": "ec9fa7c9-c32c-4a2d-ae37-97ea35da17c6",
        "colab": {
          "base_uri": "https://localhost:8080/"
        }
      },
      "execution_count": 13,
      "outputs": [
        {
          "output_type": "stream",
          "name": "stdout",
          "text": [
            "{1, 2, 3, 6}\n"
          ]
        }
      ]
    },
    {
      "cell_type": "markdown",
      "source": [
        "그러나 집합이 정렬 기능을 제공하는 것은 아님을 명심해야 합니다. 정렬 함수 `sorted` 나 `.sort`를 사용하세요.\n",
        "\n",
        "```\n",
        "a = {'orange', 'apple', 'banana'}\n",
        "print(a)\n",
        "```\n"
      ],
      "metadata": {
        "id": "ryi9bKWVlTOO"
      }
    },
    {
      "cell_type": "code",
      "source": [
        "a = {'orange', 'apple', 'banana'}\n",
        "print(a)"
      ],
      "metadata": {
        "id": "15Toz8ielk_u",
        "outputId": "3a724843-5615-498d-97d7-83b45eadce3d",
        "colab": {
          "base_uri": "https://localhost:8080/"
        }
      },
      "execution_count": 15,
      "outputs": [
        {
          "output_type": "stream",
          "name": "stdout",
          "text": [
            "{'banana', 'apple', 'orange'}\n"
          ]
        }
      ]
    },
    {
      "cell_type": "markdown",
      "source": [
        "### **(3) 집합의 연산**\n",
        "\n",
        "리스트나 튜플과 달리 집합은 `+` 나 * 연산이 불가능 합니다. 하지만 수학적 집합 개념과 마찬가지로 교집합, 합집합 차집합의 연산을 할 수 있습니다. \n"
      ],
      "metadata": {
        "id": "WtdWHrXmjWoj"
      }
    },
    {
      "cell_type": "markdown",
      "source": [
        "\n",
        "#### **교집합**\n",
        "\n",
        "집합 `a`와 집합 `B`의 교집합을 구합니다. 참고로 `&`기호는 대부분의 언어에서 `and` 를 뜻합니다. \n",
        "\n",
        "* `a&b`  \n",
        "* `a.intersection(b)` \n",
        "\n",
        "\n",
        "```\n",
        "a = {1,2,3}\n",
        "b = {3,4,5}\n",
        "\n",
        "print(a & b, a.intersection(b), b.intersection(a))\n",
        "```"
      ],
      "metadata": {
        "id": "vM_yxOEljZiQ"
      }
    },
    {
      "cell_type": "code",
      "source": [
        "a = {1,2,3}\n",
        "b = {3,4,5}\n",
        "print(a & b, a.intersection(b), b.intersection(a))"
      ],
      "metadata": {
        "id": "qw6BYQxhjVP2",
        "outputId": "db3a8e55-971c-4256-eca3-dfcdb88d5f3b",
        "colab": {
          "base_uri": "https://localhost:8080/"
        }
      },
      "execution_count": 20,
      "outputs": [
        {
          "output_type": "stream",
          "name": "stdout",
          "text": [
            "{3} {3} {3}\n"
          ]
        }
      ]
    },
    {
      "cell_type": "markdown",
      "source": [
        "#### **합집합**\n",
        "\n",
        "집합 `a`와 집합 `B`의 합집합을 구합니다. 참고로 `|`기호는 대부분의 언어에서 `or` 를 뜻합니다. \n",
        "\n",
        "* `a|b`  \n",
        "* `a.union(b)` \n",
        "\n",
        "```\n",
        "a = set([1,2,3])\n",
        "b = set([3,4,5])\n",
        "a | b, a.union(b), b.union(a) # a U b\n",
        "```"
      ],
      "metadata": {
        "id": "ur-Z2CmSjg_o"
      }
    },
    {
      "cell_type": "code",
      "source": [],
      "metadata": {
        "id": "Q_z2_tTnjfTr"
      },
      "execution_count": null,
      "outputs": []
    },
    {
      "cell_type": "markdown",
      "source": [
        "#### **차집합**\n",
        "\n",
        "집합 `a`와 집합 `B`의 차집합을 구합니다.\n",
        "\n",
        "* `a-b`\n",
        "* `a.difference(b)`\n",
        "\n",
        "```\n",
        "a = set([1,2,3])\n",
        "b = set([3,4,5])\n",
        "print( a-b, a.difference(b) )\n",
        "print( b-a, b.difference(a) )\n",
        "```"
      ],
      "metadata": {
        "id": "QFxU957kjk00"
      }
    },
    {
      "cell_type": "code",
      "source": [
        "a = set([1,2,3])\n",
        "b = set([3,4,5])\n",
        "print( a-b, a.difference(b) )\n",
        "print( b-a, b.difference(a) )"
      ],
      "metadata": {
        "id": "0yL7BXWOjiLv",
        "outputId": "113065b2-69d3-4922-835b-a83fbed95361",
        "colab": {
          "base_uri": "https://localhost:8080/"
        }
      },
      "execution_count": 30,
      "outputs": [
        {
          "output_type": "stream",
          "name": "stdout",
          "text": [
            "{1, 2} {1, 2}\n",
            "{4, 5} {4, 5}\n"
          ]
        }
      ]
    },
    {
      "cell_type": "markdown",
      "source": [
        "### **(4) 관련 메서드**\n",
        "\n"
      ],
      "metadata": {
        "id": "aglgdX2Qjoi1"
      }
    },
    {
      "cell_type": "markdown",
      "source": [
        "#### **내장함수**\n",
        "\n",
        "다른 군집 자료형과 마찬가지로 내장함수를 사용할 수 있습니다.\n",
        "\n",
        "* `len()`: 길이를 구합니다.\n",
        "* `max()`: 최대값을 구합니다.\n",
        "* `min()`: 최소값을 구합니다.\n",
        "* `sum()`: 모든값을 더합니다.\n",
        "\n",
        "```\n",
        "a = {1,2,3,5}\n",
        "len(a), max(a), min(a), sum(a)\n",
        "```"
      ],
      "metadata": {
        "id": "2WWtO6sojr1d"
      }
    },
    {
      "cell_type": "code",
      "source": [
        "a = {1,2,3,5}\n",
        "len(a), max(a), min(a), sum(a)"
      ],
      "metadata": {
        "id": "ZHBd1xUJjnDQ",
        "outputId": "56d76ef9-ec4b-448b-d8a8-79718d3c4d9e",
        "colab": {
          "base_uri": "https://localhost:8080/"
        }
      },
      "execution_count": 21,
      "outputs": [
        {
          "output_type": "execute_result",
          "data": {
            "text/plain": [
              "(4, 5, 1, 11)"
            ]
          },
          "metadata": {},
          "execution_count": 21
        }
      ]
    },
    {
      "cell_type": "markdown",
      "source": [
        "* `set()`: 집합 자료형으로 변환합니다.\n",
        "\n",
        "```\n",
        "a = [1,2,2,2,3,4,4]\n",
        "set(a)\n",
        "```"
      ],
      "metadata": {
        "id": "h1xYZ6FSjvxD"
      }
    },
    {
      "cell_type": "code",
      "source": [],
      "metadata": {
        "id": "6js5DFWMjtnw"
      },
      "execution_count": null,
      "outputs": []
    },
    {
      "cell_type": "markdown",
      "source": [
        "\n",
        "#### **기타 메서드**\n",
        "\n",
        "*  `a.add(b)` : 집합 `a` 에 요소 `b`를 추가합니다.\n",
        "\n",
        "리스트의 `append()` 기능과 유사합니다. 집합에 값을 하나 추가합니다. 다만 `append()`는 마지막에 값이 추가되는거와 달리 집합에서는 정렬된 위치에 값이 추가됩니다.\n",
        "\n",
        "```\n",
        "a ={1,2,3,5}\n",
        "a.add(4)\n",
        "print(a)\n",
        "```\n"
      ],
      "metadata": {
        "id": "_2N1aJN4j0D9"
      }
    },
    {
      "cell_type": "code",
      "source": [
        "a ={1,2,3,5}\n",
        "a.add(4)\n",
        "print(a)"
      ],
      "metadata": {
        "id": "iy-fvWdWjzKS",
        "outputId": "8503f4ed-46c3-473f-b473-2dcab6303130",
        "colab": {
          "base_uri": "https://localhost:8080/"
        }
      },
      "execution_count": 22,
      "outputs": [
        {
          "output_type": "stream",
          "name": "stdout",
          "text": [
            "{1, 2, 3, 4, 5}\n"
          ]
        }
      ]
    },
    {
      "cell_type": "markdown",
      "source": [
        "* `a.update([b, c, ..])` : 집합 `a`에 여러개의 요소를 추가합니다.\n",
        "\n",
        "```\n",
        "a = {1,2,3,5}\n",
        "a.update([6,7,8])\n",
        "print(a)\n",
        "```\n"
      ],
      "metadata": {
        "id": "uc9fJRL4j74a"
      }
    },
    {
      "cell_type": "code",
      "source": [
        "a = {1,2,3,5}\n",
        "a.update([6,7,8])\n",
        "print(a)"
      ],
      "metadata": {
        "id": "T5nvduiKj4Pn",
        "outputId": "f4948621-d3e9-412d-fb59-30b42a576c98",
        "colab": {
          "base_uri": "https://localhost:8080/"
        }
      },
      "execution_count": 23,
      "outputs": [
        {
          "output_type": "stream",
          "name": "stdout",
          "text": [
            "{1, 2, 3, 5, 6, 7, 8}\n"
          ]
        }
      ]
    },
    {
      "cell_type": "markdown",
      "source": [
        "* `a.remove(b)` : 집합 `a`에서 요소 `b`를 제거합니다.\n",
        "\n",
        "```\n",
        "a = {1,2,3,5}\n",
        "a.remove(2)\n",
        "print(a)\n",
        "```\n"
      ],
      "metadata": {
        "id": "34MpBFWsj_gM"
      }
    },
    {
      "cell_type": "code",
      "source": [
        "a = {1,2,3,5}\n",
        "a.remove(2)\n",
        "print(a)"
      ],
      "metadata": {
        "id": "zgbJdLQqj-GA",
        "outputId": "5e30acba-dd8d-464f-8422-d516ac6d252b",
        "colab": {
          "base_uri": "https://localhost:8080/"
        }
      },
      "execution_count": 24,
      "outputs": [
        {
          "output_type": "stream",
          "name": "stdout",
          "text": [
            "{1, 3, 5}\n"
          ]
        }
      ]
    },
    {
      "cell_type": "markdown",
      "source": [
        "만약 `a`에 포함되어 있지 않은 요소를 제거하면 에러 메시지가 뜹니다.\n",
        "\n",
        "```\n",
        "a = {1,2,3,5}\n",
        "a.remove(4)\n",
        "print(a)\n",
        "```\n"
      ],
      "metadata": {
        "id": "RVd-1YE9kC3R"
      }
    },
    {
      "cell_type": "code",
      "source": [],
      "metadata": {
        "id": "sMprlxDhkBI4"
      },
      "execution_count": null,
      "outputs": []
    },
    {
      "cell_type": "markdown",
      "source": [
        "## 문제풀이\n",
        "---\n",
        "\n"
      ],
      "metadata": {
        "id": "jKvwT4LbkHNv"
      }
    },
    {
      "cell_type": "markdown",
      "source": [
        "**예제 01**\n",
        "\n",
        "부분 집합 A,B,C가 아래와 같습니다. 집합 A,B,C를 정의하세요\n",
        "\n",
        "```\n",
        "A = {1,2,3,5}\n",
        "B = {1,2,3,4}\n",
        "C = {1,3,4,6}\n",
        "```"
      ],
      "metadata": {
        "id": "TtahL9hvkJNg"
      }
    },
    {
      "cell_type": "code",
      "source": [
        "A = {1,2,3,5}\n",
        "B = {1,2,3,4}\n",
        "C = {1,3,4,6}"
      ],
      "metadata": {
        "id": "xt26w28CkEcY"
      },
      "execution_count": 25,
      "outputs": []
    },
    {
      "cell_type": "markdown",
      "source": [
        "**예제 02**\n",
        "\n",
        "다음을 계산하세요.\n",
        "\n",
        "$$ A \\cup C$$ \n"
      ],
      "metadata": {
        "id": "3jDdurvlkL93"
      }
    },
    {
      "cell_type": "code",
      "source": [
        "A.union(B)"
      ],
      "metadata": {
        "id": "rwpLPktSkMO2",
        "outputId": "a3a63fe3-457f-4811-9835-956c3b53840f",
        "colab": {
          "base_uri": "https://localhost:8080/"
        }
      },
      "execution_count": 27,
      "outputs": [
        {
          "output_type": "execute_result",
          "data": {
            "text/plain": [
              "{1, 2, 3, 4, 5}"
            ]
          },
          "metadata": {},
          "execution_count": 27
        }
      ]
    },
    {
      "cell_type": "markdown",
      "source": [
        "**예제 03**\n",
        "\n",
        "다음을 계산하세요.\n",
        "\n",
        "$$ A-(B \\cap C)$$ \n"
      ],
      "metadata": {
        "id": "ZvybbZ5gkRp6"
      }
    },
    {
      "cell_type": "code",
      "source": [
        "A-(B.intersection(C))"
      ],
      "metadata": {
        "id": "9v1qHbjYkS3O",
        "outputId": "b8f388ee-1f83-419b-9788-4494af2b2aec",
        "colab": {
          "base_uri": "https://localhost:8080/"
        }
      },
      "execution_count": 28,
      "outputs": [
        {
          "output_type": "execute_result",
          "data": {
            "text/plain": [
              "{2, 5}"
            ]
          },
          "metadata": {},
          "execution_count": 28
        }
      ]
    },
    {
      "cell_type": "markdown",
      "source": [
        "**예제 04**\n",
        "\n",
        "다음을 계산하세요.\n",
        "\n",
        "$$ (A-B) \\cup (B \\cup C)$$"
      ],
      "metadata": {
        "id": "zI0EYfOkkU1l"
      }
    },
    {
      "cell_type": "code",
      "source": [
        "(A-B).union((B.union(C)))"
      ],
      "metadata": {
        "id": "P7aeASLKkWSo",
        "outputId": "90188b09-9ba3-4804-866a-fa278fae839e",
        "colab": {
          "base_uri": "https://localhost:8080/"
        }
      },
      "execution_count": 29,
      "outputs": [
        {
          "output_type": "execute_result",
          "data": {
            "text/plain": [
              "{1, 2, 3, 4, 5, 6}"
            ]
          },
          "metadata": {},
          "execution_count": 29
        }
      ]
    },
    {
      "cell_type": "markdown",
      "source": [
        "**예제 05**\n",
        "\n",
        "아래 결과의 모든 요소의 개수를 구하세요\n",
        "\n",
        "$$(A \\cap B) \\cup (B \\cap C) $$"
      ],
      "metadata": {
        "id": "-f1gEYBLkXlX"
      }
    },
    {
      "cell_type": "code",
      "source": [
        "len(A.intersection(B).union(B.intersection(C)))"
      ],
      "metadata": {
        "id": "wcA5NdS1kYSn",
        "outputId": "72e0a8b1-ee1b-4c7e-ca60-f2cf73c17b59",
        "colab": {
          "base_uri": "https://localhost:8080/"
        }
      },
      "execution_count": 38,
      "outputs": [
        {
          "output_type": "execute_result",
          "data": {
            "text/plain": [
              "4"
            ]
          },
          "metadata": {},
          "execution_count": 38
        }
      ]
    },
    {
      "cell_type": "markdown",
      "source": [
        "\n",
        "**예제 06**\n",
        "\n",
        "아래 결과의 모든 요소의 합을 구하세요\n",
        "\n",
        "$$(B - A) \\cup (A \\cup C) $$"
      ],
      "metadata": {
        "id": "--90FvFjkZe3"
      }
    },
    {
      "cell_type": "code",
      "source": [
        "sum((B-A).union(A.union(C)))"
      ],
      "metadata": {
        "id": "M7j_wBpNkaPI",
        "outputId": "6738e782-6bbf-435b-ad5c-484c3555d93d",
        "colab": {
          "base_uri": "https://localhost:8080/"
        }
      },
      "execution_count": 39,
      "outputs": [
        {
          "output_type": "execute_result",
          "data": {
            "text/plain": [
              "21"
            ]
          },
          "metadata": {},
          "execution_count": 39
        }
      ]
    },
    {
      "cell_type": "markdown",
      "source": [
        "**예제 07**\n",
        "\n",
        "집합 `S` 가 아래와 같이 정의되어 있을 때 짝수를 제거하고 출력하세요.\n",
        "\n",
        "```\n",
        "S = {1,3,4,5,7,9,10}\n",
        "```"
      ],
      "metadata": {
        "id": "t_rpQcD6lNPF"
      }
    },
    {
      "cell_type": "code",
      "source": [
        "S = {1,3,4,5,7,9,10}\n",
        "S.remove(4)\n",
        "S.remove(10) # S.remove(4,10) 2개값을 동시에 제거 못함함\n",
        "print(S)"
      ],
      "metadata": {
        "id": "rCsrdC08lNHj",
        "outputId": "4bf0e80e-0eab-4b85-b6ec-780fd8625c5d",
        "colab": {
          "base_uri": "https://localhost:8080/"
        }
      },
      "execution_count": 48,
      "outputs": [
        {
          "output_type": "stream",
          "name": "stdout",
          "text": [
            "{1, 3, 5, 7, 9}\n"
          ]
        }
      ]
    },
    {
      "cell_type": "markdown",
      "source": [
        "**예제 08**\n",
        "\n",
        "`예제 07` 에서 얻은 `S`에 15까지의 모든 홀수를 추가하고 출력하세요.\n"
      ],
      "metadata": {
        "id": "RIu3NAg9ltsS"
      }
    },
    {
      "cell_type": "code",
      "source": [
        "S.update([11,13,15])\n",
        "print(S)"
      ],
      "metadata": {
        "id": "Sfi0cZj-ltsS",
        "outputId": "a5817573-e348-42bc-bf43-9dfa01c6ab39",
        "colab": {
          "base_uri": "https://localhost:8080/"
        }
      },
      "execution_count": 49,
      "outputs": [
        {
          "output_type": "stream",
          "name": "stdout",
          "text": [
            "{1, 3, 5, 7, 9, 11, 13, 15}\n"
          ]
        }
      ]
    },
    {
      "cell_type": "markdown",
      "source": [
        "**예제 09**\n",
        "\n",
        "아래와 같이 리스트가 정의되어 있습니다. 이 리스트에 포함된 숫자의 종류는 몇개인지 구하는 코드를 작성하세요\n",
        "\n",
        "```\n",
        "long_list = [5,3,2,3,4,3,4,5,6,67,7,5,3,4,32,24,42,5,6,8,5,5,5,5,3,3,3,56,3,3,6,7,5,8,8,7,34,55,682,232,7,87,8,5,4,32,12,21,2,2,5,4,5,355,2]\n",
        "```"
      ],
      "metadata": {
        "id": "gCewjsGckb6Q"
      }
    },
    {
      "cell_type": "code",
      "source": [
        "long_list = [5,3,2,3,4,3,4,5,6,67,7,5,3,4,32,24,42,5,6,8,5,5,5,5,3,3,3,56,3,3,6,7,5,8,8,7,34,55,682,232,7,87,8,5,4,32,12,21,2,2,5,4,5,355,2]\n",
        "a = set(long_list)\n",
        "print(a)\n",
        "print(len(a))"
      ],
      "metadata": {
        "id": "dGeKh_i5kcZJ",
        "outputId": "321f7c30-591d-41d5-ba9b-f64e565976b7",
        "colab": {
          "base_uri": "https://localhost:8080/"
        }
      },
      "execution_count": 51,
      "outputs": [
        {
          "output_type": "stream",
          "name": "stdout",
          "text": [
            "{2, 3, 4, 5, 6, 7, 8, 12, 21, 24, 32, 34, 42, 682, 55, 56, 67, 87, 355, 232}\n",
            "20\n"
          ]
        }
      ]
    },
    {
      "cell_type": "markdown",
      "source": [
        "**예제 10**\n",
        "\n",
        "사용자가 정수 `n`을 입력하면 위에서 정의한 리스트에서 `n`번째로 큰 숫자를 출력하는 코드를 작성하세요 (0번째부터 시작, 중복 없이 `n`번째 큰 숫자를 출력합니다.)\n",
        "\n"
      ],
      "metadata": {
        "id": "M1GU1Hd3kenw"
      }
    },
    {
      "cell_type": "code",
      "source": [
        "b = int(input())\n",
        "long_list = [5,3,2,3,4,3,4,5,6,67,7,5,3,4,32,24,42,5,6,8,5,5,5,5,3,3,3,56,3,3,6,7,5,8,8,7,34,55,682,232,7,87,8,5,4,32,12,21,2,2,5,4,5,355,2]\n",
        "long_list1 = set(long_list)\n",
        "c = sorted(long_list1, reverse=True)\n",
        "print(f'{b}번째로 큰 숫자는 {c[b]}')\n"
      ],
      "metadata": {
        "id": "alRaEWpQke4Q",
        "outputId": "951b025c-deaa-4cea-c433-b91f6cbd7415",
        "colab": {
          "base_uri": "https://localhost:8080/"
        }
      },
      "execution_count": 57,
      "outputs": [
        {
          "output_type": "stream",
          "name": "stdout",
          "text": [
            "0\n",
            "0번째로 큰 숫자는 682\n"
          ]
        }
      ]
    }
  ]
}